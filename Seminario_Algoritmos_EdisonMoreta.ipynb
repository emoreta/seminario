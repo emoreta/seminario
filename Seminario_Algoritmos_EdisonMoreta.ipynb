{
 "cells": [
  {
   "cell_type": "markdown",
   "metadata": {
    "id": "hVbXYX-RfPWh"
   },
   "source": [
    "# Algoritmos de optimización - Seminario<br>\n",
    "# Edison Xavier Moreta Escobar\n",
    "\n",
    "**Url:** [https://github.com/.../03MAIR---Algoritmos-de-Optimizacion---2019/tree/master/SEMINARIO](https://github.com/.../03MAIR---Algoritmos-de-Optimizacion---2019/tree/master/SEMINARIO)\n",
    "\n",
    "## Problema 1:\n",
    "\n",
    "### Sesiones de doblaje\n",
    "\n",
    "1. **Organizar los horarios de partidos de La Liga**\n",
    "2. **Combinar cifras y operaciones**\n",
    "3. **Problema**\n",
    "   ### 1: Organizar sesiones de doblaje (I)\n",
    "\n",
    "   - Se precisa coordinar el doblaje de una película. Los actores del doblaje deben coincidir en las tomas en las que sus personajes aparecen juntos en las diferentes tomas. Los actores de doblaje cobran todos la misma cantidad por cada día que deben desplazarse hasta el estudio de grabación independientemente del número de tomas que se graben. No es posible grabar más de 6 tomas por día. El objetivo es planificar las sesiones por día de manera que el gasto por los servicios de los actores de doblaje sea el menor posible. Los datos son:\n",
    "\n",
    "     - **Número de actores:** 10\n",
    "     - **Número de tomas:** 30\n",
    "     - **Actores/Tomas:** [https://bit.ly/36D8IuK](https://bit.ly/36D8IuK)\n",
    "       - `1` indica que el actor participa en la toma\n",
    "       - `0` en caso contrario                   "
   ]
  },
  {
   "cell_type": "code",
   "execution_count": 1,
   "metadata": {
    "id": "eXrSBsXT2kco"
   },
   "outputs": [],
   "source": [
    "import itertools\n",
    "\n",
    "# Número de tomas y tomas por día\n",
    "num_tomas = 30\n",
    "tomas_por_dia = 6\n",
    "\n",
    "# Datos de las tomas y actores\n",
    "tomas = [\n",
    "    [1, 1, 1, 1, 1, 0, 0, 0, 0, 0],\n",
    "    [0, 0, 1, 1, 1, 0, 0, 0, 0, 0],\n",
    "    [0, 1, 0, 0, 1, 0, 1, 0, 0, 0],\n",
    "    [1, 1, 0, 0, 0, 0, 1, 1, 0, 0],\n",
    "    [0, 1, 0, 1, 0, 0, 0, 1, 0, 0],\n",
    "    [1, 1, 0, 1, 1, 0, 0, 0, 0, 0],\n",
    "    [1, 1, 0, 1, 1, 0, 0, 0, 0, 0],\n",
    "    [1, 1, 0, 0, 0, 1, 0, 0, 0, 0],\n",
    "    [1, 1, 0, 1, 0, 0, 0, 0, 0, 0],\n",
    "    [1, 1, 0, 0, 0, 1, 0, 0, 1, 0],\n",
    "    [1, 1, 1, 0, 1, 0, 0, 1, 0, 0],\n",
    "    [1, 1, 1, 1, 0, 1, 0, 0, 0, 0],\n",
    "    [1, 0, 0, 1, 1, 0, 0, 0, 0, 0],\n",
    "    [1, 0, 1, 0, 0, 1, 0, 0, 0, 0],\n",
    "    [1, 1, 0, 0, 0, 0, 1, 0, 0, 0],\n",
    "    [0, 0, 0, 1, 0, 0, 0, 0, 0, 1],\n",
    "    [1, 0, 1, 0, 0, 0, 0, 0, 0, 0],\n",
    "    [0, 0, 1, 0, 0, 1, 0, 0, 0, 0],\n",
    "    [1, 0, 1, 0, 0, 0, 0, 0, 0, 0],\n",
    "    [1, 0, 1, 1, 1, 0, 0, 0, 0, 0],\n",
    "    [0, 0, 0, 0, 0, 1, 0, 1, 0, 0],\n",
    "    [1, 1, 1, 1, 0, 0, 0, 0, 0, 0],\n",
    "    [1, 0, 1, 0, 0, 0, 0, 0, 0, 0],\n",
    "    [0, 0, 1, 0, 0, 1, 0, 0, 0, 0],\n",
    "    [1, 1, 0, 1, 0, 0, 0, 0, 0, 1],\n",
    "    [1, 0, 1, 0, 1, 0, 0, 0, 1, 0],\n",
    "    [0, 0, 0, 1, 1, 0, 0, 0, 0, 0],\n",
    "    [1, 0, 0, 1, 0, 0, 0, 0, 0, 0],\n",
    "    [1, 0, 0, 0, 1, 1, 0, 0, 0, 0],\n",
    "    [1, 0, 0, 1, 0, 0, 0, 0, 0, 0],\n",
    "]\n"
   ]
  },
  {
   "cell_type": "markdown",
   "metadata": {
    "id": "3_-exlrTgLd-"
   },
   "source": [
    "### (*)¿Cuantas posibilidades hay sin tener en cuenta las restricciones?<br>\n"
   ]
  },
  {
   "cell_type": "markdown",
   "metadata": {
    "id": "WfCUqJyKhPcw"
   },
   "source": [
    "Respuesta"
   ]
  },
  {
   "cell_type": "code",
   "execution_count": 2,
   "metadata": {
    "colab": {
     "base_uri": "https://localhost:8080/"
    },
    "id": "ln5qQHz72kcp",
    "outputId": "3405294d-c2a9-4a78-dccb-1e64f263575e"
   },
   "outputs": [
    {
     "name": "stdout",
     "output_type": "stream",
     "text": [
      "Número de combinaciones posibles sin restricciones: 593775\n"
     ]
    }
   ],
   "source": [
    "# Generar todas las combinaciones posibles de 6 tomas de 30\n",
    "combinaciones = list(itertools.combinations(range(num_tomas), tomas_por_dia))\n",
    "\n",
    "# Número de combinaciones posibles sin restricciones\n",
    "num_combinaciones = len(combinaciones)\n",
    "\n",
    "print(\"Número de combinaciones posibles sin restricciones:\", num_combinaciones)"
   ]
  },
  {
   "cell_type": "markdown",
   "metadata": {
    "id": "mk8Dvgbm2kcr"
   },
   "source": [
    "### ¿Cuantas posibilidades hay teniendo en cuenta todas las restricciones."
   ]
  },
  {
   "cell_type": "code",
   "execution_count": 3,
   "metadata": {
    "colab": {
     "base_uri": "https://localhost:8080/"
    },
    "id": "iq6Fe32MgpDX",
    "outputId": "787e2c09-7966-478a-acc1-96ceedd7ea31"
   },
   "outputs": [
    {
     "name": "stdout",
     "output_type": "stream",
     "text": [
      "Número de combinaciones válidas: 593775\n"
     ]
    }
   ],
   "source": [
    "# Número de combinaciones válidas\n",
    "num_combinaciones_validas = 0\n",
    "\n",
    "# Filtrar combinaciones válidas\n",
    "for combinacion in combinaciones:\n",
    "    actores_en_dia = set()\n",
    "    for toma in combinacion:\n",
    "        for actor in range(len(tomas[toma])):\n",
    "            if tomas[toma][actor] == 1:\n",
    "                actores_en_dia.add(actor)\n",
    "    if len(actores_en_dia) <= 10:\n",
    "        num_combinaciones_validas += 1\n",
    "\n",
    "print(\"Número de combinaciones válidas:\", num_combinaciones_validas)"
   ]
  },
  {
   "cell_type": "markdown",
   "metadata": {
    "id": "dzynfVJahHoY"
   },
   "source": [
    "### Modelo para el espacio de soluciones<br>\n",
    "### (*) ¿Cual es la estructura de datos que mejor se adapta al problema? Argumentalo.(Es posible que hayas elegido una al principio y veas la necesidad de cambiar, arguentalo)\n"
   ]
  },
  {
   "cell_type": "markdown",
   "metadata": {
    "id": "38c-7-ejhJmA"
   },
   "source": [
    "La estructura de datos que mejor se adapta al problema es una matriz, donde cada fila representa una toma y cada columna representa un actor. Los valores en la matriz son binarios (1 o 0), indicando si el actor participa en la toma. Esto permite acceder y manipular los datos de manera eficiente."
   ]
  },
  {
   "cell_type": "markdown",
   "metadata": {
    "id": "7Z9U2W7bi-XS"
   },
   "source": [
    "### Según el modelo para el espacio de soluciones<br>\n",
    "### (*)¿Cual es la función objetivo?\n"
   ]
  },
  {
   "cell_type": "markdown",
   "metadata": {
    "id": "pDA-rg3Gj5Lz"
   },
   "source": [
    "La función objetivo es minimizar el costo total de los actores, que se calcula en función del número de días que deben desplazarse al estudio de grabación."
   ]
  },
  {
   "cell_type": "markdown",
   "metadata": {
    "id": "3lVhSuGA2kcs"
   },
   "source": [
    "### (*)¿Es un problema de maximización o minimización?"
   ]
  },
  {
   "cell_type": "markdown",
   "metadata": {
    "id": "xBwaua-52kcs"
   },
   "source": [
    "Este es un problema de minimización."
   ]
  },
  {
   "cell_type": "markdown",
   "metadata": {
    "id": "rlnTYgY1j6I2"
   },
   "source": [
    "### Diseña un algoritmo para resolver el problema por fuerza bruta"
   ]
  },
  {
   "cell_type": "code",
   "execution_count": 4,
   "metadata": {
    "colab": {
     "base_uri": "https://localhost:8080/"
    },
    "id": "CJb5sQ0qkENy",
    "outputId": "217cf558-3a46-4491-a2a4-14534f45ba81"
   },
   "outputs": [
    {
     "name": "stdout",
     "output_type": "stream",
     "text": [
      "Costo mínimo: 3\n",
      "Mejor combinación: ([1, 0, 1, 0, 0, 1, 0, 0, 0, 0], [1, 0, 1, 0, 0, 0, 0, 0, 0, 0], [0, 0, 1, 0, 0, 1, 0, 0, 0, 0], [1, 0, 1, 0, 0, 0, 0, 0, 0, 0], [1, 0, 1, 0, 0, 0, 0, 0, 0, 0], [0, 0, 1, 0, 0, 1, 0, 0, 0, 0])\n"
     ]
    }
   ],
   "source": [
    "# Calcular el costo de un conjunto de tomas\n",
    "def calcular_costo(tomas_seleccionadas):\n",
    "    actores_dia = [0] * 10\n",
    "    for toma in tomas_seleccionadas:\n",
    "        for i in range(len(actores_dia)):\n",
    "            actores_dia[i] = max(actores_dia[i], toma[i])\n",
    "    return sum(actores_dia)\n",
    "\n",
    "# Generar todas las combinaciones posibles de 6 tomas\n",
    "combinaciones = list(itertools.combinations(tomas, 6))\n",
    "\n",
    "# Encontrar la combinación con el menor costo\n",
    "costo_minimo = float('inf')\n",
    "mejor_comb = None\n",
    "\n",
    "for combinacion in combinaciones:\n",
    "    costo = calcular_costo(combinacion)\n",
    "    if costo < costo_minimo:\n",
    "        costo_minimo = costo\n",
    "        mejor_comb = combinacion\n",
    "\n",
    "print(\"Costo mínimo:\", costo_minimo)\n",
    "print(\"Mejor combinación:\", mejor_comb)"
   ]
  },
  {
   "cell_type": "markdown",
   "metadata": {
    "id": "tgrnsC2nkFa8"
   },
   "source": [
    "### Calcula la complejidad del algoritmo por fuerza bruta"
   ]
  },
  {
   "cell_type": "markdown",
   "metadata": {
    "id": "rvZWwL-ckRST"
   },
   "source": [
    "La complejidad de este algoritmo de fuerza bruta es\n",
    "𝑂\\left(\\binom{n}{k} \\cdot n\\right), donde 𝑛 es el número de tomas (30) y 𝑘 es el número de tomas por día (6). La función de combinación es factorial y se calcula como:\n",
    "\n",
    "\\[\n",
    "\\binom{n}{k} = \\frac{n!}{k! \\cdot (n - k)!}\n",
    "\\]\n",
    "\n",
    "Para 𝑛 = 30 y 𝑘 = 6, esto es aproximadamente 𝑂\\left(\\binom{30}{6}\\right), que es una complejidad computacional muy alta y no es eficiente para valores grandes de 𝑛.\n"
   ]
  },
  {
   "cell_type": "markdown",
   "metadata": {
    "id": "txbrmLmskReM"
   },
   "source": [
    "### (*)Diseña un algoritmo que mejore la complejidad del algortimo por fuerza bruta. Argumenta porque crees que mejora el algoritmo por fuerza bruta"
   ]
  },
  {
   "cell_type": "code",
   "execution_count": 5,
   "metadata": {
    "id": "m1eyM21Vkabg"
   },
   "outputs": [],
   "source": [
    "# Número de actores\n",
    "num_actores = 10\n",
    "\n",
    "# Función para calcular el costo de un conjunto de tomas\n",
    "def calcular_costo(tomas_seleccionadas):\n",
    "    actores_dia = [0] * num_actores\n",
    "    for toma in tomas_seleccionadas:\n",
    "        for i in range(len(actores_dia)):\n",
    "            actores_dia[i] = max(actores_dia[i], toma[i])\n",
    "    return sum(actores_dia)\n",
    "\n"
   ]
  },
  {
   "cell_type": "code",
   "execution_count": null,
   "metadata": {
    "id": "nyOw3UsJN3z2"
   },
   "outputs": [],
   "source": [
    "# Programación dinámica para encontrar la solución óptima\n",
    "dp = [float('inf')] * (1 << len(tomas))\n",
    "dp[0] = 0\n",
    "\n",
    "for estado in range(1 << len(tomas)):\n",
    "    tomas_seleccionadas = [tomas[i] for i in range(len(tomas)) if estado & (1 << i)]\n",
    "    if len(tomas_seleccionadas) <= 6:\n",
    "        costo = calcular_costo(tomas_seleccionadas)\n",
    "        for subestado in range(estado):\n",
    "            if (subestado & estado) == subestado:\n",
    "                dp[estado] = min(dp[estado], dp[subestado] + costo)\n",
    "\n",
    "print(\"Costo mínimo (Programación dinámica):\", dp[(1 << len(tomas)) - 1])"
   ]
  },
  {
   "cell_type": "markdown",
   "metadata": {
    "id": "YY5lCgcz2kcu"
   },
   "source": [
    "El enfoque de programación dinámica es más eficiente porque evita recalcular costos para las mismas combinaciones de tomas múltiples veces. Al almacenar los costos en una tabla y construir la solución óptima de manera incremental, reducimos significativamente la redundancia en los cálculos."
   ]
  },
  {
   "cell_type": "markdown",
   "metadata": {
    "id": "eGDB4K6uk1iN"
   },
   "source": [
    "### (*)Calcula la complejidad del algoritmo"
   ]
  },
  {
   "cell_type": "markdown",
   "metadata": {
    "id": "NhpTh_BPk1ms"
   },
   "source": [
    "Respuesta"
   ]
  },
  {
   "cell_type": "markdown",
   "metadata": {
    "id": "nREzhkStlCq8"
   },
   "source": [
    "La complejidad del algoritmo de programación dinámica es\n",
    "𝑂\n",
    "(\n",
    "2\n",
    "𝑛\n",
    "⋅\n",
    "𝑛\n",
    ")\n",
    "O(2\n",
    "n\n",
    " ⋅n), donde\n",
    "𝑛\n",
    "n es el número de tomas. Esto es significativamente mejor que la complejidad de\n",
    "𝑂\n",
    "(\n",
    "(\n",
    "𝑛\n",
    "𝑘\n",
    ")\n",
    "⋅\n",
    "𝑛\n",
    ")\n",
    "O((\n",
    "k\n",
    "n\n",
    "​\n",
    " )⋅n) del enfoque de fuerza bruta, especialmente cuando\n",
    "𝑛\n",
    "n es grande."
   ]
  },
  {
   "cell_type": "markdown",
   "metadata": {
    "id": "3M6QjTsSkmYe"
   },
   "source": [
    "### Según el problema (y tenga sentido), diseña un juego de datos de entrada aleatorios"
   ]
  },
  {
   "cell_type": "code",
   "execution_count": 6,
   "metadata": {
    "id": "sJ-N2etjkyWc"
   },
   "outputs": [],
   "source": [
    "import random\n",
    "\n",
    "def generar_datos_aleatorios(num_tomas, num_actores):\n",
    "    return [[random.randint(0, 1) for _ in range(num_actores)] for _ in range(num_tomas)]\n",
    "\n",
    "# Generar datos aleatorios\n",
    "tomas_aleatorias = generar_datos_aleatorios(30, 10)\n"
   ]
  },
  {
   "cell_type": "markdown",
   "metadata": {
    "id": "zy5ZROmjlGo1"
   },
   "source": [
    "### Aplica el algoritmo al juego de datos generado"
   ]
  },
  {
   "cell_type": "code",
   "execution_count": 7,
   "metadata": {
    "colab": {
     "base_uri": "https://localhost:8080/",
     "height": 193
    },
    "id": "Jkx8GeiYlUz1",
    "outputId": "cd4bddae-37f3-4a3b-a6c4-6d3f14bec636"
   },
   "outputs": [
    {
     "name": "stderr",
     "output_type": "stream",
     "text": [
      "\n",
      "KeyboardInterrupt\n",
      "\n"
     ]
    }
   ],
   "source": [
    "# Aplicar el algoritmo a los datos aleatorios\n",
    "def optimizar_tomas(participacion, num_tomas, max_tomas_por_dia):\n",
    "    dp = [float('inf')] * (1 << num_tomas)\n",
    "    dp[0] = 0\n",
    "\n",
    "    for estado in range(1 << num_tomas):\n",
    "        tomas_seleccionadas = [participacion[i] for i in range(num_tomas) if estado & (1 << i)]\n",
    "        if len(tomas_seleccionadas) <= max_tomas_por_dia:\n",
    "            costo = calcular_costo(tomas_seleccionadas)\n",
    "            for subestado in range(estado):\n",
    "                if (subestado & estado) == subestado:\n",
    "                    dp[estado] = min(dp[estado], dp[subestado] + costo)\n",
    "\n",
    "    return dp[(1 << num_tomas) - 1]\n",
    "\n",
    "# Aplicar el algoritmo mejorado a los datos aleatorios\n",
    "costo_minimo_aleatorio = optimizar_tomas(tomas_aleatorias, len(tomas_aleatorias), 6)\n",
    "print(f\"Costo mínimo para organizar las tomas (datos aleatorios): {costo_minimo_aleatorio}\")\n"
   ]
  },
  {
   "cell_type": "markdown",
   "metadata": {
    "id": "kAkDPUyRtYyH"
   },
   "source": [
    "### Describe brevemente las lineas de como crees que es posible avanzar en el estudio del problema. Ten en cuenta incluso posibles variaciones del problema y/o variaciones al alza del tamaño"
   ]
  },
  {
   "cell_type": "markdown",
   "metadata": {
    "id": "CS33eJx82kcv"
   },
   "source": [
    "1. Mejora de Algoritmos Existentes\n",
    "Algoritmo de Fuerza Bruta\n",
    "Descripción: Este algoritmo explora todas las combinaciones posibles de tomas diarias y selecciona la combinación de menor costo.\n",
    "Complejidad: La complejidad es\n",
    "𝑂\n",
    "(\n",
    "(\n",
    "𝑛\n",
    "𝑘\n",
    ")\n",
    ")\n",
    "O((\n",
    "k\n",
    "n\n",
    "​\n",
    " )), lo que lo hace inviable para grandes valores de\n",
    "𝑛\n",
    "n y\n",
    "𝑘\n",
    "k.\n",
    "Algoritmo Optimizado (Programación Dinámica)\n",
    "Descripción: Utiliza programación dinámica para construir soluciones parciales y evitar recalcular combinaciones repetidas.\n",
    "Complejidad: Reduce la complejidad a aproximadamente\n",
    "𝑂\n",
    "(\n",
    "𝑛\n",
    "2\n",
    ")\n",
    "O(n\n",
    "2\n",
    " ).\n",
    "2. Posibles Variaciones del Problema\n",
    "1. Número Variable de Tomas por Día\n",
    "Descripción: Permitir un número variable de tomas por día en lugar de un número fijo (6 tomas).\n",
    "Impacto: Aumenta la flexibilidad del plan de filmación, pero también la complejidad del algoritmo.\n",
    "2. Costos Diferentes para Actores Individuales\n",
    "Descripción: Asignar diferentes costos a cada actor dependiendo de su disponibilidad, demanda, o contrato.\n",
    "Impacto: Permite una mejor optimización del presupuesto, pero complica el cálculo de costos diarios.\n",
    "3. Aumento del Número de Tomas y Actores\n",
    "Descripción: Incrementar el número de tomas y actores para evaluar la escalabilidad del algoritmo.\n",
    "Impacto: Aumenta la dificultad computacional y puede requerir el uso de técnicas avanzadas de optimización.\n",
    "3. Técnicas Avanzadas de Optimización\n",
    "1. Algoritmos Genéticos\n",
    "Descripción: Utilizar algoritmos genéticos para encontrar soluciones aproximadas mediante técnicas evolutivas.\n",
    "Ventajas: Capacidad para manejar grandes espacios de búsqueda y encontrar soluciones subóptimas rápidamente.\n",
    "2. Algoritmos de Optimización Combinatoria\n",
    "Descripción: Utilizar algoritmos como Branch and Bound o Programación Entera para explorar el espacio de soluciones de manera más eficiente.\n",
    "Ventajas: Proporciona soluciones exactas con una mejor eficiencia que la fuerza bruta.\n",
    "4. Exploración de Nuevas Heurísticas\n",
    "1. Heurística de Minimización de Costos Diarios\n",
    "Descripción: Diseñar heurísticas que minimicen los costos diarios de manera iterativa.\n",
    "Impacto: Mejora la eficiencia del algoritmo en términos de tiempo de ejecución.\n",
    "2. Técnicas de Descomposición del Problema\n",
    "Descripción: Dividir el problema en subproblemas más pequeños y manejables.\n",
    "Impacto: Facilita la resolución de problemas complejos y mejora la eficiencia computacional.\n",
    "5. Estudio de la Escalabilidad\n",
    "Simulación: Realizar simulaciones incrementando gradualmente el número de tomas y actores para estudiar cómo escala el algoritmo.\n",
    "Benchmarking: Comparar el rendimiento del algoritmo optimizado contra el de fuerza bruta y otros enfoques heurísticos.\n",
    "Conclusión\n",
    "Para avanzar en el estudio del problema, se recomienda combinar mejoras algorítmicas con la exploración de nuevas variaciones del problema. La implementación de técnicas avanzadas de optimización y heurísticas puede proporcionar soluciones más eficientes y escalables, adecuadas para el tamaño creciente del problema. La investigación futura puede centrarse en la evaluación de estas estrategias en diferentes escenarios y configuraciones.\n",
    "Conclusión\n",
    "Para avanzar en el estudio del problema, se recomienda combinar mejoras algorítmicas con la exploración de nuevas variaciones del problema. La implementación de técnicas avanzadas de optimización y heurísticas puede proporcionar soluciones más eficientes y escalables, adecuadas para el tamaño creciente del problema. La investigación futura puede centrarse en la evaluación de estas estrategias en diferentes escenarios y configuraciones."
   ]
  },
  {
   "cell_type": "markdown",
   "metadata": {
    "id": "8b29GczC2kcw"
   },
   "source": [
    "### ---------------------------------------------------------------------------------------------------------------------------"
   ]
  },
  {
   "cell_type": "markdown",
   "metadata": {
    "id": "9nk93gX22kcw"
   },
   "source": [
    "## Problema 2:\n"
   ]
  },
  {
   "cell_type": "markdown",
   "metadata": {
    "id": "gmK0FFeO2kcw"
   },
   "source": [
    "### Organización de Horarios de Partidos de La Liga\n",
    "\n",
    "Desde La Liga de fútbol profesional se pretende organizar los horarios de los partidos de liga de cada jornada. Se conocen algunos datos que nos deben llevar a diseñar un algoritmo que realice la asignación de los partidos a los horarios de forma que maximice la audiencia.\n",
    "\n",
    "#### Horarios Disponibles\n",
    "Los horarios disponibles se conocen a priori y son los siguientes:\n",
    "- **Viernes**: 20h\n",
    "- **Sábado**: 12h, 16h, 18h, 20h\n",
    "- **Domingo**: 12h, 16h, 18h, 20h\n",
    "- **Lunes**: 20h\n",
    "\n",
    "#### Clasificación de Equipos\n",
    "En primer lugar, se clasifican los equipos en tres categorías según el número de seguidores (que tiene relación directa con la audiencia). Hay 3 equipos en la categoría A, 11 equipos de categoría B y 6 equipos de categoría C.\n",
    "\n",
    "#### Audiencia por Categoría de Equipos\n",
    "Se conoce estadísticamente la audiencia que genera cada partido según los equipos que se enfrentan y en horario de sábado a las 20h (el mejor en todos los casos):\n",
    "\n",
    "| Categoría     | Categoría A  | Categoría B | Categoría C |\n",
    "| ------------- | ------------ | ----------- | ----------- |\n",
    "| **Categoría A** | 2 Millones   | 1,3 Millones | 1 Millón   |\n",
    "| **Categoría B** |              | 0.9 Millones | 0.75 Millones|\n",
    "| **Categoría C** |              |             | 0.47 Millones|\n",
    "\n",
    "#### Reducción por Horario\n",
    "Si el horario del partido no se realiza a las 20 horas del sábado, se sabe que se reduce según los coeficientes de la siguiente tabla:\n",
    "\n",
    "|          | Viernes | Sábado  | Domingo | Lunes  |\n",
    "| -------- | ------- | ------- | ------- | ------ |\n",
    "| **12h**  |         | 0.55    | 0.45    |        |\n",
    "| **16h**  |         | 0.7     | 0.75    |        |\n",
    "| **18h**  |         | 0.8     | 0.85    |        |\n",
    "| **20h**  | 0.4     | 1       | 1       | 0.4    |\n",
    "\n",
    "Debemos asignar obligatoriamente siempre un partido el viernes y un partido el lunes.\n",
    "\n",
    "#### Reducción por Coincidencia de Horarios\n",
    "Es posible la coincidencia de horarios, pero en este caso la audiencia de cada partido se verá afectada y se estima que se reduce en porcentaje según la siguiente tabla dependiendo del número de coincidencias:\n",
    "\n",
    "| Coincidencias | % Reducción |\n",
    "| ------------- | ------------|\n",
    "| 0             | 0%          |\n",
    "| 1             | 25%         |\n",
    "| 2             | 45%         |\n",
    "| 3             | 60%         |\n",
    "| 4             | 70%         |\n",
    "| 5             | 75%         |\n",
    "| 6             | 78%         |\n",
    "| 7             | 80%         |\n",
    "| 8             | 80%         |\n",
    "\n",
    "#### Cálculos de Ejemplo\n",
    "Los cálculos asociados a una jornada de ejemplo se realizan según se muestra en la siguiente tabla:\n",
    "\n",
    "| Partido               | Categorías | Horario | Base (mill.) | Ponderación | Base*Ponderación | Corrección Coincidencia |\n",
    "| --------------------- | ---------- | ------- | ------------ | ----------- | ---------------- | ----------------------- |\n",
    "| Celta - Real Madrid   | B-A        | V20     | 1,3          | 0.4         | 0.52             | 0.52                    |\n",
    "| Valencia - R. Sociedad| B-A        | S12     | 1,3          | 0.55        | 0.72             | 0.72                    |\n",
    "| Mallorca - Eibar      | C-C        | S16     | 0.47         | 0.7         | 0.33             | 0.33                    |\n",
    "| Atletic - Barcelona   | B-A        | S18     | 1,3          | 0.8         | 1.04             | 1.04                    |\n",
    "| Leganes - Osasuna     | C-C        | S20     | 0.47         | 1           | 0.47             | 0.47                    |\n",
    "| Villareal - Granada   | B-C        | D16     | 0.75         | 0.75        | 0.56             | 0.42                    |\n",
    "| Alaves - Levante      | B-B        | D16     | 0.9          | 0.75        | 0.68             | 0.51                    |\n",
    "| Espanyol - Sevilla    | B-B        | D18     | 0.9          | 0.85        | 0.77             | 0.77                    |\n",
    "| Betis - Valladolid    | B-C        | D20     | 0.75         | 1           | 0.75             | 0.75                    |\n",
    "| Atletico - Getafe     | B-B        | L20     | 0.9          | 0.4         | 0.36             | 0.36                    |\n",
    "\n",
    "**Total: 5.88 millones**\n"
   ]
  },
  {
   "cell_type": "code",
   "execution_count": 1,
   "metadata": {
    "id": "upvT_6d32kcx"
   },
   "outputs": [],
   "source": [
    "import itertools\n",
    "import numpy as np\n",
    "\n",
    "# Datos del problema\n",
    "equipos_categoria_A = 3\n",
    "equipos_categoria_B = 11\n",
    "equipos_categoria_C = 6\n",
    "\n",
    "audiencia_base = {\n",
    "    ('A', 'A'): 2.0,\n",
    "    ('A', 'B'): 1.3,\n",
    "    ('A', 'C'): 1.0,\n",
    "    ('B', 'B'): 0.9,\n",
    "    ('B', 'C'): 0.75,\n",
    "    ('C', 'C'): 0.47\n",
    "}\n",
    "\n",
    "horarios = {\n",
    "    'V20': 0.4,\n",
    "    'S12': 0.55,\n",
    "    'S16': 0.7,\n",
    "    'S18': 0.8,\n",
    "    'S20': 1,\n",
    "    'D12': 0.45,\n",
    "    'D16': 0.75,\n",
    "    'D18': 0.85,\n",
    "    'D20': 1,\n",
    "    'L20': 0.4\n",
    "}\n",
    "\n",
    "reduccion_coincidencias = {\n",
    "    0: 0.0,\n",
    "    1: 0.25,\n",
    "    2: 0.45,\n",
    "    3: 0.60,\n",
    "    4: 0.70,\n",
    "    5: 0.75,\n",
    "    6: 0.78,\n",
    "    7: 0.80,\n",
    "    8: 0.80\n",
    "}"
   ]
  },
  {
   "cell_type": "code",
   "execution_count": null,
   "metadata": {
    "id": "9QdFsVCg2kcx"
   },
   "outputs": [],
   "source": [
    "# Generar combinaciones de equipos\n",
    "equipos = ['A'] * equipos_categoria_A + ['B'] * equipos_categoria_B + ['C'] * equipos_categoria_C\n",
    "partidos = list(itertools.combinations(equipos, 2))\n",
    "\n",
    "# Generar todas las combinaciones de horarios\n",
    "horarios_posibles = list(itertools.product(horarios.keys(), repeat=len(partidos)))"
   ]
  },
  {
   "cell_type": "code",
   "execution_count": null,
   "metadata": {
    "id": "xsz-cBKD2kcx"
   },
   "outputs": [],
   "source": [
    "# Función para calcular audiencia total dada una asignación de horarios\n",
    "def calcular_audiencia_total(asignacion):\n",
    "    audiencia_total = 0\n",
    "    coincidencias = {h: 0 for h in horarios.keys()}\n",
    "\n",
    "    for i, partido in enumerate(partidos):\n",
    "        horario = asignacion[i]\n",
    "        categoria_partido = (partido[0], partido[1])\n",
    "        base_audiencia = audiencia_base[tuple(sorted(categoria_partido))]\n",
    "        coef_horario = horarios[horario]\n",
    "        audiencia = base_audiencia * coef_horario\n",
    "\n",
    "        coincidencias[horario] += 1\n",
    "        audiencia_total += audiencia\n",
    "\n",
    "    for h, num_coincidencias in coincidencias.items():\n",
    "        if num_coincidencias > 1:\n",
    "            reduccion = reduccion_coincidencias[num_coincidencias - 1]\n",
    "            audiencia_total -= audiencia_total * reduccion\n",
    "\n",
    "    return audiencia_total"
   ]
  },
  {
   "cell_type": "markdown",
   "metadata": {},
   "source": [
    " Diseña un algoritmo para resolver el problema por fuerza bruta"
   ]
  },
  {
   "cell_type": "code",
   "execution_count": null,
   "metadata": {
    "id": "nDHFL07u2kcy"
   },
   "outputs": [],
   "source": [
    "# Algoritmo de fuerza bruta\n",
    "mejor_audiencia = 0\n",
    "mejor_asignacion = None\n",
    "\n",
    "for asignacion in horarios_posibles:\n",
    "    audiencia_actual = calcular_audiencia_total(asignacion)\n",
    "    if audiencia_actual > mejor_audiencia:\n",
    "        mejor_audiencia = audiencia_actual\n",
    "        mejor_asignacion = asignacion\n",
    "\n",
    "print(\"Mejor audiencia total:\", mejor_audiencia)\n",
    "print(\"Mejor asignación de horarios:\", mejor_asignacion)"
   ]
  },
  {
   "cell_type": "markdown",
   "metadata": {},
   "source": [
    "Diseña un algoritmo que mejore la complejidad del algoritmo por fuerza bruta.\n",
    "Argumenta porque crees que mejora el algoritmo por fuerza bruta"
   ]
  },
  {
   "cell_type": "code",
   "execution_count": null,
   "metadata": {
    "id": "aLewuEXs2kcy"
   },
   "outputs": [],
   "source": [
    "# Algoritmo voraz\n",
    "def algoritmo_voraz(partidos, horarios, audiencia_base, reduccion_coincidencias):\n",
    "    asignacion = []\n",
    "    coincidencias = {h: 0 for h in horarios.keys()}\n",
    "    partidos_ordenados = sorted(partidos, key=lambda x: audiencia_base[tuple(sorted(x))], reverse=True)\n",
    "\n",
    "    for partido in partidos_ordenados:\n",
    "        mejor_horario = None\n",
    "        mejor_audiencia = 0\n",
    "\n",
    "        for horario in horarios.keys():\n",
    "            base_audiencia = audiencia_base[tuple(sorted(partido))]\n",
    "            coef_horario = horarios[horario]\n",
    "            audiencia = base_audiencia * coef_horario\n",
    "\n",
    "            if coincidencias[horario] > 0:\n",
    "                reduccion = reduccion_coincidencias[coincidencias[horario]]\n",
    "                audiencia -= audiencia * reduccion\n",
    "\n",
    "            if audiencia > mejor_audiencia:\n",
    "                mejor_audiencia = audiencia\n",
    "                mejor_horario = horario\n",
    "\n",
    "        asignacion.append((partido, mejor_horario))\n",
    "        coincidencias[mejor_horario] += 1\n",
    "\n",
    "    audiencia_total = sum([audiencia_base[tuple(sorted(partido))] * horarios[horario] for partido, horario in asignacion])\n",
    "\n",
    "    for h, num_coincidencias in coincidencias.items():\n",
    "        if num_coincidencias > 1:\n",
    "            reduccion = reduccion_coincidencias[num_coincidencias - 1]\n",
    "            audiencia_total -= audiencia_total * reduccion\n",
    "\n",
    "    return asignacion, audiencia_total\n",
    "\n",
    "mejor_asignacion_voraz, mejor_audiencia_voraz = algoritmo_voraz(partidos, horarios, audiencia_base, reduccion_coincidencias)\n",
    "\n",
    "print(\"Mejor audiencia total (voraz):\", mejor_audiencia_voraz)\n",
    "print(\"Mejor asignación de horarios (voraz):\", mejor_asignacion_voraz)\n"
   ]
  },
  {
   "cell_type": "markdown",
   "metadata": {},
   "source": [
    "Calcula la complejidad del algoritmo"
   ]
  },
  {
   "cell_type": "code",
   "execution_count": 2,
   "metadata": {},
   "outputs": [
    {
     "data": {
      "text/plain": [
       "1664.3856189774724"
      ]
     },
     "execution_count": 2,
     "metadata": {},
     "output_type": "execute_result"
    }
   ],
   "source": [
    "# Supongamos algunos valores de ejemplo para las variables:\n",
    "P = 100  # Número de partidos\n",
    "H = 10   # Número de horarios\n",
    "\n",
    "# Cálculo de la complejidad total del algoritmo basado en O(P * H + P log P)\n",
    "import math\n",
    "\n",
    "complejidad_total = P * H + P * math.log2(P)\n",
    "complejidad_total\n"
   ]
  },
  {
   "cell_type": "markdown",
   "metadata": {},
   "source": [
    "Según el problema (y tenga sentido), diseña un juego de datos de entrada aleatorio."
   ]
  },
  {
   "cell_type": "code",
   "execution_count": null,
   "metadata": {
    "id": "EfNWDvTs_nhm"
   },
   "outputs": [],
   "source": [
    "import random\n",
    "\n",
    "# Definir categorías de equipos\n",
    "categorias = ['A', 'B', 'C']\n",
    "equipos = ['Equipo_' + str(i) for i in range(20)]\n",
    "\n",
    "# Asignar categorías aleatoriamente\n",
    "categorias_equipos = {equipo: random.choice(categorias) for equipo in equipos}\n",
    "\n",
    "# Generar partidos aleatorios\n",
    "partidos_aleatorios = list(itertools.combinations(equipos, 2))\n",
    "\n",
    "# Función para calcular audiencia base según las categorías de los equipos\n",
    "def calcular_audiencia_base(partido):\n",
    "    cat1, cat2 = categorias_equipos[partido[0]], categorias_equipos[partido[1]]\n",
    "    return audiencia_base[tuple(sorted((cat1, cat2)))]\n",
    "\n",
    "# Aplicar el algoritmo voraz a los datos generados\n",
    "mejor_asignacion_voraz, mejor_audiencia_voraz = algoritmo_voraz(partidos_aleatorios, horarios, calcular_audiencia_base, reduccion_coincidencias)\n",
    "\n",
    "print(\"Mejor audiencia total (voraz) con datos aleatorios:\", mejor_audiencia_voraz)\n",
    "print(\"Mejor asignación de horarios (voraz) con datos aleatorios:\", mejor_asignacion_voraz)\n"
   ]
  },
  {
   "cell_type": "markdown",
   "metadata": {
    "id": "6bK3a3uo_xuf"
   },
   "source": [
    "## Problema 3. Combinar cifras y operaciones\n"
   ]
  },
  {
   "cell_type": "markdown",
   "metadata": {},
   "source": [
    "El problema consiste en analizar el siguiente problema y diseñar un algoritmo que lo resuelva\n",
    "Disponemos de las 9 cifras del 1 al 9 (excluimos el cero) y de los 4 signos básicos de las\n",
    "operaciones fundamentales: suma(+), resta(-), multiplicación(*) y división(/)\n",
    "Debemos combinarlos alternativamente sin repetir ninguno de ellos para obtener una\n",
    "cantidad dada. Un ejemplo sería para obtener el 4:\n",
    "4+2-6/3*1 = 4\n",
    "Debe analizarse el problema para encontrar todos los valores enteros posibles planteando las\n",
    "siguientes cuestiones:\n",
    "- ¿Qué valor máximo y mínimo se pueden obtener según las condiciones del problema?\n",
    "- ¿Es posible encontrar todos los valores enteros posibles entre dicho mínimo y máximo ?"
   ]
  },
  {
   "cell_type": "code",
   "execution_count": 3,
   "metadata": {
    "id": "RUGF6hBh_9Kn"
   },
   "outputs": [],
   "source": [
    "import itertools\n",
    "\n",
    "# Cifras y operaciones disponibles\n",
    "cifras = list('123456789')\n",
    "operaciones = list('+-*/')\n",
    "\n",
    "# Generar todas las permutaciones posibles de cifras y operaciones\n",
    "permutaciones_cifras = list(itertools.permutations(cifras))\n",
    "permutaciones_operaciones = list(itertools.permutations(operaciones))\n",
    "\n",
    "# Generar todas las expresiones posibles\n",
    "def generar_expresiones():\n",
    "    expresiones = []\n",
    "    for perm_cifras in permutaciones_cifras:\n",
    "        for perm_operaciones in permutaciones_operaciones:\n",
    "            expr = []\n",
    "            for i in range(len(perm_operaciones)):\n",
    "                expr.append(perm_cifras[i])\n",
    "                expr.append(perm_operaciones[i])\n",
    "            expr.append(perm_cifras[-1])\n",
    "            expresiones.append(''.join(expr))\n",
    "    return expresiones\n",
    "\n",
    "expresiones = generar_expresiones()\n"
   ]
  },
  {
   "cell_type": "code",
   "execution_count": 4,
   "metadata": {
    "id": "FsfoI4CV__tu"
   },
   "outputs": [],
   "source": [
    "def evaluar_expresiones(expresiones):\n",
    "    resultados = {}\n",
    "    for expr in expresiones:\n",
    "        try:\n",
    "            resultado = eval(expr)\n",
    "            if resultado == int(resultado):\n",
    "                resultados[expr] = int(resultado)\n",
    "        except ZeroDivisionError:\n",
    "            continue\n",
    "    return resultados\n",
    "\n",
    "resultados = evaluar_expresiones(expresiones)\n"
   ]
  },
  {
   "cell_type": "code",
   "execution_count": 5,
   "metadata": {
    "id": "q_Mp-opwAAxI"
   },
   "outputs": [
    {
     "name": "stdout",
     "output_type": "stream",
     "text": [
      "Valor mínimo: -69\n",
      "Valor máximo: 77\n",
      "Todos los valores enteros posibles están presentes: True\n"
     ]
    }
   ],
   "source": [
    "valores = list(resultados.values())\n",
    "valor_minimo = min(valores)\n",
    "valor_maximo = max(valores)\n",
    "valores_posibles = set(range(valor_minimo, valor_maximo + 1))\n",
    "valores_encontrados = set(valores)\n",
    "\n",
    "todos_valores_posibles = valores_posibles.issubset(valores_encontrados)\n",
    "\n",
    "print(\"Valor mínimo:\", valor_minimo)\n",
    "print(\"Valor máximo:\", valor_maximo)\n",
    "print(\"Todos los valores enteros posibles están presentes:\", todos_valores_posibles)"
   ]
  },
  {
   "cell_type": "markdown",
   "metadata": {},
   "source": [
    "Complejidad"
   ]
  },
  {
   "cell_type": "code",
   "execution_count": 7,
   "metadata": {},
   "outputs": [
    {
     "data": {
      "text/plain": [
       "8709120"
      ]
     },
     "execution_count": 7,
     "metadata": {},
     "output_type": "execute_result"
    }
   ],
   "source": [
    "import math\n",
    "\n",
    "# Cálculo de la complejidad como O(9! * 4!)\n",
    "complejidad = math.factorial(9) * math.factorial(4)\n",
    "complejidad"
   ]
  },
  {
   "cell_type": "markdown",
   "metadata": {
    "id": "V4xgSSbGAF5O"
   },
   "source": [
    "Datos aleatorios"
   ]
  },
  {
   "cell_type": "code",
   "execution_count": 6,
   "metadata": {
    "id": "3150e3BzAIe-"
   },
   "outputs": [
    {
     "name": "stdout",
     "output_type": "stream",
     "text": [
      "Expresión aleatoria: 3+5*1-7/9\n",
      "Resultado: 7.222222222222222\n"
     ]
    }
   ],
   "source": [
    "import random\n",
    "\n",
    "# Generar una permutación aleatoria de cifras y operaciones\n",
    "cifras_aleatorias = random.sample(cifras, len(cifras))\n",
    "operaciones_aleatorias = random.sample(operaciones, len(operaciones))\n",
    "\n",
    "# Generar una expresión aleatoria\n",
    "expr_aleatoria = []\n",
    "for i in range(len(operaciones_aleatorias)):\n",
    "    expr_aleatoria.append(cifras_aleatorias[i])\n",
    "    expr_aleatoria.append(operaciones_aleatorias[i])\n",
    "expr_aleatoria.append(cifras_aleatorias[-1])\n",
    "\n",
    "expr_aleatoria = ''.join(expr_aleatoria)\n",
    "resultado_aleatorio = eval(expr_aleatoria)\n",
    "\n",
    "print(\"Expresión aleatoria:\", expr_aleatoria)\n",
    "print(\"Resultado:\", resultado_aleatorio)\n"
   ]
  },
  {
   "cell_type": "code",
   "execution_count": null,
   "metadata": {},
   "outputs": [],
   "source": []
  }
 ],
 "metadata": {
  "colab": {
   "provenance": []
  },
  "kernelspec": {
   "display_name": "Python 3 (ipykernel)",
   "language": "python",
   "name": "python3"
  },
  "language_info": {
   "codemirror_mode": {
    "name": "ipython",
    "version": 3
   },
   "file_extension": ".py",
   "mimetype": "text/x-python",
   "name": "python",
   "nbconvert_exporter": "python",
   "pygments_lexer": "ipython3",
   "version": "3.11.7"
  }
 },
 "nbformat": 4,
 "nbformat_minor": 4
}
